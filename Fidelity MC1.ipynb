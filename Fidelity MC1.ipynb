{
 "cells": [
  {
   "cell_type": "markdown",
   "metadata": {},
   "source": [
    "## **Fidelity Investments vs the World**\n",
    "\n",
    "![Fidelity](https://i.insider.com/5fad52544044a00018f76299?width=400)\n",
    "\n",
    "### Table of Contents\n",
    "- [Overview/Orgin](#overvieworgin)\n",
    "- [Business Activites](#business-activites)\n",
    "- [Landscape](#landscape)\n",
    "- [Results](#results)\n",
    "- [Recommendations](#recommendations)\n",
    "- [Addendum: Sources](#addendum-sources)"
   ]
  },
  {
   "cell_type": "markdown",
   "metadata": {},
   "source": [
    "### Overview/Orgin\n",
    "\n",
    "    Fidelity Investments is a investment firm\n",
    "    who serve by helping each individual and businesses reach their financial goals and grow their buisness with their innovative technology solutions since 1946. Fidelity has over 200 locations from United States to Ireland ranging from services such as investment management, financial planning, brokerage services, and custody services to individual investors, employers, advisors, and innovators. \"Take intelligent risks rather than follow the crowd\" is what Edward C Johnson said to his team of researchers in 1946 when Fidelity first acted as a investment adviser to Fidelity Fund. Since then Fidelity has grown to over 43 million individual investors with a discretionary value of $4.5 trillion. \n",
    "\n",
    "\n",
    "### Business Activites\n",
    "\n",
    "    The main challenge Fidelity has are the high cost of fees with thier product and services. Fidelity offers a competetive hgih rate for their index funds and ETF's. Competetiors such as Vanguard and Charles Schwab are Fidelities biggest threats when it comes to index fund fees offering much lower rates. Fideliety targets long term investors with its great trade executions and excellent research and asset screeners.\n",
    "    \n",
    "    Fidelity has a strong advantage over its competetors due to the amount of accounts it has which is well over 40 million accounts throughout all products and services. add that with being privately held makes it difficult for competetors to present danger. Fidelity currently has its hands on technology to help increase collaboration, optimize production, and deepen the client engagement experience to all. Cloud computing is a big step Fidelity is taking to make the scale more secured, safe, and cost efficient. A.I and Machine learning are also a part of Fidelity technology they are using while using a Regtech company Saifr to overlook their compliance management operations automatically. Fidelity also uses Machine learning to develop chat box's and analyze data for more accurate investment decisions. Fidelity uses a variety of tech that includes, java, JQuery, Bootstrap, Highcharts, and Ensighten.\n"
   ]
  },
  {
   "cell_type": "markdown",
   "metadata": {},
   "source": [
    "### Landscape\n",
    "\n",
    "    With Fidelity being a leader in the wealth management domain, the firm was able to keep up with the joneses by coming up with innovative and effective solutions over the past 5 to 10 years. Fidelity was able to be very effective in their industry by implementing Fidelity's robo advisor as Fidelity Go. Also there is Fidelity Labs where technologists work together on various projects using A.I and blockchain to bring the most valuable and impactful ideas to life. Even while Fidelity has a lot to offer, this firm is still not safe as other fintech companies such as betterment, Sofi, and Wealthfront where they are more focused on products like robo advisors, cybersecurity, and digital wealth management platforms.\n",
    "\n",
    "### Results\n",
    "\n",
    "![Stats](https://mms.businesswire.com/media/20221117005107/en/1640050/5/221104_RetirementTrends_2022_Social_Graphics.jpg)\n",
    "\n",
    "    According to the 2022 annaul report, Fidelit's largest impact was their revenue generating over $25 billion dollars which was over 5% more than the year before. Fidelity acheived this feat by the demand for more retirement accounts which is Fidelities specialty long term investing. Not only have they increased revenue, they also expanded its presence with new offices in Canada, Mexico, and the United Kingdom. Fidelity measures its value of success through AUM (Asset under management) where they have exceeded over $10 trillion and customer satisfaction based on the amount of satisfied clients they serve to help reach financial freedom. Based on Fidelities performance among the wealth management domain, the firm still remains as a dominant leader in the domain backing up with the number of clients both business and indivduals along with the AUM and revenue numbers fully committing to their platform. \n",
    "   "
   ]
  },
  {
   "cell_type": "markdown",
   "metadata": {},
   "source": [
    " ### Recommendations\n",
    "\n",
    "    By examining Fidelities reports and articles, we have gained valuable insights into what product or services that can help the firm keep up with trends. Fidelity can stay in flexible by staying innovative through the use of a more user-friendly trading platform. Most of the firms competetors have a execellent trading platform for traders thats easy to use and accessible since Fidelity is more common for long term investors in retirements and college savings accounts. Using tools such as A.I, cybersecurity, and machine learning are all phenomenal tools that Fidelity already utilize to stay in good hands. These technmologies are what most competitors are using in their trading platforms that give them an edge in the wealth management domain let alone the fintech industry. "
   ]
  },
  {
   "cell_type": "markdown",
   "metadata": {},
   "source": [
    "### Addendum: Sources\n",
    "\n",
    "* Article:\n",
    "Fidelity Investments. (2023). Practice management technology and operations. Retrieved from https://clearingcustody.fidelity.com/app/item/RD_13569_42637/practice-management/practice-management-technology-and-operations.html\n",
    "\n",
    "* Customer story:\n",
    "Amazon Web Services. (2023). Fidelity Investment uses AWS Cost Management to optimize cloud costs and improve efficiency. Retrieved from https://aws.amazon.com/aws-cost-management/customer-stories/fidelity-investment/#\n",
    "\n",
    "* Article:\n",
    "U.S. News & World Report. (2023, January 25). 7 top investment firms using AI for asset management. Retrieved from https://money.usnews.com/investing/articles/7-top-investment-firms-using-ai-for-asset-management#\n",
    "\n",
    "* Website:\n",
    "Fidelity Investments. (2023). Fidelity Investments technology stack. Retrieved from https://stackshare.io/fidelity-investments/fidelity-com\n",
    "\n",
    "* Annual report:\n",
    "Fidelity Investments. (2023). 2022 annual report. Retrieved from https://www.fidelity.com/bin-public/060_www_fidelity_com/documents/about-fidelity/2022-Fidelity-Investments-Annual-Report.pdf\n",
    "\n",
    "* FAQ page:\n",
    "Fidelity Investments. (2023). Fidelity Go investment account FAQs. Retrieved from https://www.fidelity.com/managed-accounts/fidelity-go/investment-account-faqs#\n",
    "\n",
    "* Website:\n",
    "Fidelity Investments. (2023). Innovation at Fidelity. Retrieved from https://www.fidelityinternational.com/innovation-at-fidelity/#\n",
    "\n",
    "* Website:\n",
    "Fidelity Investments. (2023). Crypto trading. Retrieved from https://www.fidelity.com/crypto/trading\n",
    "\n",
    "* Article:\n",
    "Investopedia. (2023, February 10). Fidelity review. Retrieved from https://www.investopedia.com/fidelity-review-4587897\n",
    "\n",
    "* Website:\n",
    "Fidelity Investments. (2023). About Fidelity. Retrieved from https://www.fidelity.com/about-fidelity/our-company"
   ]
  }
 ],
 "metadata": {
  "language_info": {
   "name": "python"
  },
  "orig_nbformat": 4
 },
 "nbformat": 4,
 "nbformat_minor": 2
}
